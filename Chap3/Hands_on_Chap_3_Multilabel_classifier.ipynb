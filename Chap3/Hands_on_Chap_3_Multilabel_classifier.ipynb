{
  "nbformat": 4,
  "nbformat_minor": 0,
  "metadata": {
    "colab": {
      "name": "Hands-on Chap 3 - Multilabel classifier",
      "version": "0.3.2",
      "provenance": [],
      "collapsed_sections": []
    },
    "kernelspec": {
      "name": "python3",
      "display_name": "Python 3"
    },
    "accelerator": "GPU"
  },
  "cells": [
    {
      "cell_type": "code",
      "metadata": {
        "id": "UkxP0zPgxfVI",
        "colab_type": "code",
        "colab": {}
      },
      "source": [
        "from sklearn.neighbors import KNeighborsClassifier\n",
        "\n",
        "from sklearn.datasets import fetch_openml\n",
        "import numpy as np\n",
        "mnist = fetch_openml('mnist_784',version=1)\n"
      ],
      "execution_count": 0,
      "outputs": []
    },
    {
      "cell_type": "code",
      "metadata": {
        "id": "CgSZbTyLxwVc",
        "colab_type": "code",
        "colab": {}
      },
      "source": [
        "X,Y = mnist.data, mnist.target\n",
        "Y= Y.astype(np.uint8)\n",
        "X_train,Y_train,X_test,Y_test = X[:60000],Y[:60000],X[60000:],Y[60000:]"
      ],
      "execution_count": 0,
      "outputs": []
    },
    {
      "cell_type": "code",
      "metadata": {
        "id": "gz2YAfxOxx9w",
        "colab_type": "code",
        "outputId": "ee69d223-d11b-4ecf-818e-b87bdd90ae39",
        "colab": {
          "base_uri": "https://localhost:8080/",
          "height": 141
        }
      },
      "source": [
        "Y_train_large = Y_train>=7\n",
        "Y_train_odd = Y_train%2==1\n",
        "Y_multilabel = np.c_[Y_train_large,Y_train_odd]\n",
        "#Y_train_large.shape\n",
        "Y_multilabel"
      ],
      "execution_count": 0,
      "outputs": [
        {
          "output_type": "execute_result",
          "data": {
            "text/plain": [
              "array([[False,  True],\n",
              "       [False, False],\n",
              "       [False, False],\n",
              "       ...,\n",
              "       [False,  True],\n",
              "       [False, False],\n",
              "       [ True, False]])"
            ]
          },
          "metadata": {
            "tags": []
          },
          "execution_count": 17
        }
      ]
    },
    {
      "cell_type": "code",
      "metadata": {
        "id": "A54lKS_U_rYg",
        "colab_type": "code",
        "outputId": "98f27a3b-c2a5-45cd-b09d-7938c7517619",
        "colab": {
          "base_uri": "https://localhost:8080/",
          "height": 70
        }
      },
      "source": [
        "knn_clf = KNeighborsClassifier()\n",
        "knn_clf.fit(X_train,Y_multilabel)"
      ],
      "execution_count": 0,
      "outputs": [
        {
          "output_type": "execute_result",
          "data": {
            "text/plain": [
              "KNeighborsClassifier(algorithm='auto', leaf_size=30, metric='minkowski',\n",
              "                     metric_params=None, n_jobs=None, n_neighbors=5, p=2,\n",
              "                     weights='uniform')"
            ]
          },
          "metadata": {
            "tags": []
          },
          "execution_count": 18
        }
      ]
    },
    {
      "cell_type": "code",
      "metadata": {
        "id": "3D5iXz6U_3dy",
        "colab_type": "code",
        "outputId": "0a76df26-1a0c-4661-9b38-2a65282a3081",
        "colab": {
          "base_uri": "https://localhost:8080/",
          "height": 34
        }
      },
      "source": [
        "knn_clf.predict([X_train[3]])"
      ],
      "execution_count": 0,
      "outputs": [
        {
          "output_type": "execute_result",
          "data": {
            "text/plain": [
              "array([[False,  True]])"
            ]
          },
          "metadata": {
            "tags": []
          },
          "execution_count": 19
        }
      ]
    },
    {
      "cell_type": "code",
      "metadata": {
        "id": "YR2M-npEAaSf",
        "colab_type": "code",
        "colab": {}
      },
      "source": [
        "from sklearn.model_selection import cross_val_predict\n",
        "#Y_train_knn_pred = cross_val_predict(knn_clf,X_train,Y_multilabel,cv=3)"
      ],
      "execution_count": 0,
      "outputs": []
    },
    {
      "cell_type": "code",
      "metadata": {
        "id": "r5dzrCGDgoDy",
        "colab_type": "code",
        "outputId": "6dee6c1b-7e35-44c8-b5fc-9b8b333527a1",
        "colab": {
          "base_uri": "https://localhost:8080/",
          "height": 141
        }
      },
      "source": [
        "Y_train_knn_pred"
      ],
      "execution_count": 0,
      "outputs": [
        {
          "output_type": "execute_result",
          "data": {
            "text/plain": [
              "array([[False,  True],\n",
              "       [False, False],\n",
              "       [False, False],\n",
              "       ...,\n",
              "       [False,  True],\n",
              "       [False, False],\n",
              "       [ True, False]])"
            ]
          },
          "metadata": {
            "tags": []
          },
          "execution_count": 21
        }
      ]
    },
    {
      "cell_type": "markdown",
      "metadata": {
        "id": "Xr_M15fIguP8",
        "colab_type": "text"
      },
      "source": [
        "array([[False,  True],\n",
        "       [False, False],\n",
        "       [False, False],\n",
        "       ...,\n",
        "       [False,  True],\n",
        "       [False, False],\n",
        "       [ True, False]])"
      ]
    },
    {
      "cell_type": "markdown",
      "metadata": {
        "id": "J1mRNvpPguL-",
        "colab_type": "text"
      },
      "source": [
        ""
      ]
    },
    {
      "cell_type": "code",
      "metadata": {
        "id": "96ED7QMKAmCd",
        "colab_type": "code",
        "outputId": "dd1c20b6-b5b5-4589-f9ea-83b295eef2d3",
        "colab": {
          "base_uri": "https://localhost:8080/",
          "height": 34
        }
      },
      "source": [
        "from sklearn.metrics import f1_score\n",
        "f1_score(Y_multilabel, Y_train_knn_pred,average='macro')"
      ],
      "execution_count": 0,
      "outputs": [
        {
          "output_type": "execute_result",
          "data": {
            "text/plain": [
              "0.976410265560605"
            ]
          },
          "metadata": {
            "tags": []
          },
          "execution_count": 22
        }
      ]
    },
    {
      "cell_type": "markdown",
      "metadata": {
        "id": "LpWXRS4wgs25",
        "colab_type": "text"
      },
      "source": [
        "0.976410265560605"
      ]
    }
  ]
}